{
 "cells": [
  {
   "cell_type": "raw",
   "metadata": {},
   "source": [
    "# Pytorch Tutorial"
   ]
  },
  {
   "cell_type": "markdown",
   "metadata": {},
   "source": [
    "## Tensor"
   ]
  },
  {
   "cell_type": "markdown",
   "metadata": {},
   "source": [
    "### Initializing a tensor"
   ]
  },
  {
   "cell_type": "code",
   "execution_count": 5,
   "metadata": {},
   "outputs": [
    {
     "name": "stdout",
     "output_type": "stream",
     "text": [
      "tensor([[1, 2],\n",
      "        [3, 4]])\n",
      "tensor([[1, 2],\n",
      "        [3, 4]])\n",
      "tensor([[0.9754, 0.6291],\n",
      "        [0.0207, 0.9325]])\n",
      "tensor([[0.9859, 0.3070, 0.8260],\n",
      "        [0.4130, 0.4827, 0.0803]])\n"
     ]
    }
   ],
   "source": [
    "import torch\n",
    "import numpy as np\n",
    "\n",
    "data = [[1,2], [3,4]]\n",
    "x_data = torch.tensor(data)\n",
    "print(x_data)\n",
    "\n",
    "np_array = np.array(data)\n",
    "x_np = torch.from_numpy(np_array)\n",
    "print(x_np)\n",
    "\n",
    "x_ones = torch.ones_like(x_data)\n",
    "x_rand = torch.rand_like(x_data, dtype=torch.float)\n",
    "print(x_rand)\n",
    "\n",
    "shape =(2,3)\n",
    "rand_tensor = torch.rand(shape)\n",
    "ones_tensor =torch.ones(shape)\n",
    "zeros_tensor= torch.zeros(shape)\n",
    "print(rand_tensor)"
   ]
  },
  {
   "cell_type": "markdown",
   "metadata": {},
   "source": [
    "### Attributes of a Tensor"
   ]
  },
  {
   "cell_type": "code",
   "execution_count": 7,
   "metadata": {},
   "outputs": [
    {
     "name": "stdout",
     "output_type": "stream",
     "text": [
      "Shape of tensor: torch.Size([3, 4])\n",
      "Datatype of tensor: torch.float32\n",
      "Device tensor is stored on: cpu\n"
     ]
    }
   ],
   "source": [
    "tensor = torch.rand(3,4)\n",
    "print(\"Shape of tensor: {}\".format(tensor.shape))\n",
    "print(\"Datatype of tensor: {}\".format(tensor.dtype))\n",
    "print(\"Device tensor is stored on: {}\".format(tensor.device))"
   ]
  },
  {
   "cell_type": "markdown",
   "metadata": {},
   "source": [
    "### Device"
   ]
  },
  {
   "cell_type": "code",
   "execution_count": 9,
   "metadata": {},
   "outputs": [
    {
     "name": "stdout",
     "output_type": "stream",
     "text": [
      "Device tensor is stored on: cuda:0\n",
      "Device tensor is stored on: cuda:0\n",
      "Device tensor is stored on: cpu\n"
     ]
    }
   ],
   "source": [
    "if torch.cuda.is_available():\n",
    "    tensor = tensor.to('cuda')\n",
    "else:\n",
    "    print(\"cuda is not available!\")\n",
    "print(\"Device tensor is stored on: {}\".format(tensor.device))\n",
    "\n",
    "device = 0\n",
    "if torch.cuda.is_available():\n",
    "    tensor = tensor.to('cuda:{}'.format(device))\n",
    "print(\"Device tensor is stored on: {}\".format(tensor.device))\n",
    "\n",
    "tensor = tensor.cpu()\n",
    "# tensor = tensor.to('cpu')\n",
    "print(\"Device tensor is stored on: {}\".format(tensor.device))\n"
   ]
  },
  {
   "cell_type": "markdown",
   "metadata": {},
   "source": [
    "### Indexing, slicing and joining tensors"
   ]
  },
  {
   "cell_type": "code",
   "execution_count": 14,
   "metadata": {},
   "outputs": [
    {
     "name": "stdout",
     "output_type": "stream",
     "text": [
      "Original 3*3 tenstor:\n",
      "tensor([[0, 1, 2],\n",
      "        [3, 4, 5],\n",
      "        [6, 7, 8]])\n",
      "First row:  tensor([0, 1, 2])\n",
      "First column:  tensor([0, 3, 6])\n",
      "Last column:  tensor([2, 5, 8])\n",
      "\n",
      "After concat:\n",
      "tensor([[0, 1, 2, 0, 1, 2],\n",
      "        [3, 4, 5, 3, 4, 5],\n",
      "        [6, 7, 8, 6, 7, 8]])\n",
      "\n",
      "After stack:\n",
      "tensor([[[0, 1, 2],\n",
      "         [0, 1, 2]],\n",
      "\n",
      "        [[3, 4, 5],\n",
      "         [3, 4, 5]],\n",
      "\n",
      "        [[6, 7, 8],\n",
      "         [6, 7, 8]]])\n"
     ]
    }
   ],
   "source": [
    "l = list(range(9))\n",
    "tensor =torch.tensor(l).reshape((3,3))\n",
    "print(\"Original 3*3 tenstor:\")\n",
    "print(tensor)\n",
    "\n",
    "print('First row: ', tensor[0])\n",
    "print('First column: ', tensor[:, 0])\n",
    "print('Last column: ', tensor[...,-1])\n",
    "\n",
    "t1= torch.cat([tensor, tensor], dim=1)\n",
    "t2 = torch.stack([tensor,tensor] , dim=1)\n",
    "\n",
    "print(\"\\nAfter concat:\")\n",
    "print(t1)\n",
    "print(\"\\nAfter stack:\")\n",
    "print(t2)"
   ]
  },
  {
   "cell_type": "markdown",
   "metadata": {},
   "source": [
    "### Arithmetic operations"
   ]
  },
  {
   "cell_type": "code",
   "execution_count": 17,
   "metadata": {},
   "outputs": [
    {
     "name": "stdout",
     "output_type": "stream",
     "text": [
      "--------------------\n",
      "tensor([[  5,  14,  23],\n",
      "        [ 14,  50,  86],\n",
      "        [ 23,  86, 149]])\n",
      "tensor([[  5,  14,  23],\n",
      "        [ 14,  50,  86],\n",
      "        [ 23,  86, 149]])\n",
      "tensor([[  5,  14,  23],\n",
      "        [ 14,  50,  86],\n",
      "        [ 23,  86, 149]])\n",
      "--------------------\n",
      "tensor([[ 0,  1,  4],\n",
      "        [ 9, 16, 25],\n",
      "        [36, 49, 64]])\n",
      "tensor([[ 0,  1,  4],\n",
      "        [ 9, 16, 25],\n",
      "        [36, 49, 64]])\n",
      "tensor([[ 0,  1,  4],\n",
      "        [ 9, 16, 25],\n",
      "        [36, 49, 64]])\n",
      "--------------------\n",
      "tensor([[ 5,  6,  7],\n",
      "        [ 8,  9, 10],\n",
      "        [11, 12, 13]])\n",
      "tensor([[ 5,  6,  7],\n",
      "        [ 8,  9, 10],\n",
      "        [11, 12, 13]])\n"
     ]
    }
   ],
   "source": [
    "# the matrix multiplication\n",
    "y1 = tensor @ tensor.T\n",
    "y2= tensor.matmul(tensor.T)\n",
    "y3 = torch.matmul(tensor,tensor.T)\n",
    "print('-'*20)\n",
    "print(y1)\n",
    "print(y2)\n",
    "print(y3)\n",
    "\n",
    "# the element-wise product\n",
    "z1 = tensor * tensor\n",
    "z2 = tensor.mul(tensor)\n",
    "z3 = torch.mul(tensor,tensor)\n",
    "print('-'*20)\n",
    "print(z1)\n",
    "print(z2)\n",
    "print(z3)\n",
    "\n",
    "# in-place operations\n",
    "i1 = tensor.add(5)\n",
    "i2 = tensor.mul(5)\n",
    "print('-'*20)\n",
    "print(i1)\n",
    "print(i1)\n"
   ]
  },
  {
   "cell_type": "markdown",
   "metadata": {},
   "source": [
    "## Dataset"
   ]
  },
  {
   "cell_type": "markdown",
   "metadata": {},
   "source": [
    "## Neural Network"
   ]
  },
  {
   "cell_type": "markdown",
   "metadata": {},
   "source": [
    "### test_kwargs"
   ]
  },
  {
   "cell_type": "code",
   "execution_count": 19,
   "metadata": {},
   "outputs": [
    {
     "name": "stdout",
     "output_type": "stream",
     "text": [
      "Required argument: 1\n",
      "<class 'tuple'>\n",
      "<class 'dict'>\n",
      "------------------------\n",
      "0ptional argument(args):  2\n",
      "0ptional argument(args):  3\n",
      "0ptional argument(args):  4\n",
      "------------------------\n",
      "0ptional argument k1(kwargs):5\n",
      "0ptional argument k2(kwargs):6\n"
     ]
    }
   ],
   "source": [
    "def test_kwargs(first, *args, **kwargs):\n",
    "    print('Required argument:', first)\n",
    "    print(type(args))\n",
    "    print(type(kwargs))\n",
    "    print('-'*24)\n",
    "    for v in args:print('0ptional argument(args): ', v)\n",
    "    print('-'*24)\n",
    "    for k,v in kwargs.items():\n",
    "        print('0ptional argument %s(kwargs):%s'%(k, v))\n",
    "                                                 \n",
    "test_kwargs(1,2,3,4,k1=5,k2=6)"
   ]
  },
  {
   "cell_type": "markdown",
   "metadata": {},
   "source": [
    "### load pretrained models"
   ]
  },
  {
   "cell_type": "code",
   "execution_count": 21,
   "metadata": {},
   "outputs": [
    {
     "name": "stderr",
     "output_type": "stream",
     "text": [
      "/home/ubuntu/anaconda3/envs/llava/lib/python3.10/site-packages/torchvision/models/_utils.py:208: UserWarning: The parameter 'pretrained' is deprecated since 0.13 and may be removed in the future, please use 'weights' instead.\n",
      "  warnings.warn(\n",
      "/home/ubuntu/anaconda3/envs/llava/lib/python3.10/site-packages/torchvision/models/_utils.py:223: UserWarning: Arguments other than a weight enum or `None` for 'weights' are deprecated since 0.13 and may be removed in the future. The current behavior is equivalent to passing `weights=ResNet18_Weights.IMAGENET1K_V1`. You can also use `weights=ResNet18_Weights.DEFAULT` to get the most up-to-date weights.\n",
      "  warnings.warn(msg)\n",
      "Downloading: \"https://download.pytorch.org/models/resnet18-f37072fd.pth\" to /home/ubuntu/.cache/torch/hub/checkpoints/resnet18-f37072fd.pth\n",
      "100%|█████████████████████████████████████████████████████████████████████████████████████████████████████████████████████████████████████████████████| 44.7M/44.7M [00:01<00:00, 24.4MB/s]\n"
     ]
    }
   ],
   "source": [
    "import torchvision.models as models\n",
    "resnet18 = models.resnet18(pretrained=True)"
   ]
  },
  {
   "cell_type": "code",
   "execution_count": null,
   "metadata": {},
   "outputs": [],
   "source": [
    "### Parameters"
   ]
  },
  {
   "cell_type": "raw",
   "metadata": {},
   "source": [
    "# for param in resnet18.parameters():\n",
    "#     print(type(param),param.size())\n",
    "for name, param in resnet18.named_parameters():\n",
    "    print(name, param.size())"
   ]
  },
  {
   "cell_type": "code",
   "execution_count": null,
   "metadata": {},
   "outputs": [],
   "source": []
  }
 ],
 "metadata": {
  "kernelspec": {
   "display_name": "Python 3 (ipykernel)",
   "language": "python",
   "name": "python3"
  },
  "language_info": {
   "codemirror_mode": {
    "name": "ipython",
    "version": 3
   },
   "file_extension": ".py",
   "mimetype": "text/x-python",
   "name": "python",
   "nbconvert_exporter": "python",
   "pygments_lexer": "ipython3",
   "version": "3.10.15"
  }
 },
 "nbformat": 4,
 "nbformat_minor": 4
}
