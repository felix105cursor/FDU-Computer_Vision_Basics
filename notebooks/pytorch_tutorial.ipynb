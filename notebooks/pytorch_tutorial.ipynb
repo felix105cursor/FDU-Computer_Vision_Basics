{
 "cells": [
  {
   "cell_type": "markdown",
   "metadata": {},
   "source": [
    "## test_kwargs"
   ]
  },
  {
   "cell_type": "code",
   "execution_count": null,
   "metadata": {},
   "outputs": [],
   "source": [
    "def test_kwargs(first, *args, **kwargs):\n",
    "    print('Required argument:', first)\n",
    "    print(type(kwargs))\n",
    "    for v in args:print('0ptional argument(args): ', v)\n",
    "    for k,v in kwargs.items():\n",
    "        print('0ptional argument %s(kwargs):%s'%(k, v))\n",
    "                                                 \n",
    "test_kwargs(1,2,3,4,k1=5,k2=6)"
   ]
  },
  {
   "cell_type": "markdown",
   "metadata": {},
   "source": []
  }
 ],
 "metadata": {
  "language_info": {
   "name": "python"
  }
 },
 "nbformat": 4,
 "nbformat_minor": 2
}
