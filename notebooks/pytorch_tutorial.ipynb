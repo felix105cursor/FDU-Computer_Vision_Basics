{
 "cells": [
  {
   "cell_type": "markdown",
   "metadata": {},
   "source": [
    "# Pytorch Tutorial"
   ]
  },
  {
   "cell_type": "markdown",
   "metadata": {},
   "source": [
    "## Tensor"
   ]
  },
  {
   "cell_type": "markdown",
   "metadata": {},
   "source": [
    "### Initializing a tensor"
   ]
  },
  {
   "cell_type": "code",
   "execution_count": null,
   "metadata": {},
   "outputs": [],
   "source": [
    "import torch\n",
    "import numpy as np\n",
    "\n",
    "data = [[1,2], [3,4]]\n",
    "x_data = torch.tensor(data)\n",
    "\n",
    "np_array = np.array(data)\n",
    "x_np = torch.from_numpy(np_array)\n",
    "\n",
    "x_ones = torch.ones_like(x_data)\n",
    "x_rand = torch.rand_like(x_data, (dtype=torch.float))\n",
    "\n",
    "shape =(2,3)\n",
    "rand_tensor = torch.rand(shape)\n",
    "ones_tensor =torch.ones(shape)\n",
    "zeros_tensor= torch.zeros(shape)"
   ]
  },
  {
   "cell_type": "markdown",
   "metadata": {},
   "source": [
    "### Attributes of a Tensor"
   ]
  },
  {
   "cell_type": "code",
   "execution_count": null,
   "metadata": {},
   "outputs": [],
   "source": [
    "tensor = torch.rand(3,4)\n",
    "print(\"Shape of tensor: {}\".format(tensor.shape))\n",
    "print(\"Datatype of tensor:{}\".format(tensor.dtype))\n",
    "print(\"Device tensor is stored on: {}\".format(tensor.device))"
   ]
  },
  {
   "cell_type": "markdown",
   "metadata": {},
   "source": [
    "### Device"
   ]
  },
  {
   "cell_type": "code",
   "execution_count": null,
   "metadata": {},
   "outputs": [],
   "source": [
    "if torch.cuda.is_available():\n",
    "    tensor = tensor.to('cuda')\n",
    "else:\n",
    "    print(\"cuda is not available!\")\n",
    "\n",
    "device = 0\n",
    "if torch.cuda.is_available():\n",
    "    tensor = tensor.to('cuda:{}'.format(device))\n",
    "\n",
    "tensor = tensor.cpu()\n",
    "tensor = tensor.to('cpu')\n"
   ]
  },
  {
   "cell_type": "markdown",
   "metadata": {},
   "source": [
    "### Indexing, slicing and joining tensors"
   ]
  },
  {
   "cell_type": "code",
   "execution_count": null,
   "metadata": {},
   "outputs": [],
   "source": [
    "l = list(range(9))\n",
    "tensor =torch.tensor(l)\n",
    "tensor.reshape((3,3))\n",
    "print(tensor)\n",
    "\n",
    "print('First row: ', tensor[0])\n",
    "print('First column: ', tensor[:, 0])\n",
    "print('Last column: ', tensor[...,-1])\n",
    "\n",
    "t1= torch.cat([tensor, tensor], dim=1)\n",
    "t2 = torch.stack([tensor,tensor] , dim=1)\n",
    "\n",
    "print(t1)\n",
    "print(t2)"
   ]
  },
  {
   "cell_type": "markdown",
   "metadata": {},
   "source": [
    "### Arithmetic operations"
   ]
  },
  {
   "cell_type": "code",
   "execution_count": null,
   "metadata": {},
   "outputs": [],
   "source": [
    "# the matrix multiplication\n",
    "y1 = tensor @ tensor.T\n",
    "y2= tensor.matmul(tensor.T)\n",
    "y3 = torch.matmul(tensor,tensor.T)\n",
    "\n",
    "# the element-wise product\n",
    "zl = tensor * tensor\n",
    "z2 = tensor.mul(tensor)\n",
    "z3 = torch.mul(tensor,tensor)\n",
    "\n",
    "# in-place operations\n",
    "tensor.add(5)\n",
    "tensor.mul(5)"
   ]
  },
  {
   "cell_type": "markdown",
   "metadata": {},
   "source": [
    "## Dataset"
   ]
  },
  {
   "cell_type": "markdown",
   "metadata": {},
   "source": [
    "## Neural Network"
   ]
  },
  {
   "cell_type": "markdown",
   "metadata": {},
   "source": [
    "### test_kwargs"
   ]
  },
  {
   "cell_type": "code",
   "execution_count": null,
   "metadata": {},
   "outputs": [],
   "source": [
    "def test_kwargs(first, *args, **kwargs):\n",
    "    print('Required argument:', first)\n",
    "    print(type(args))\n",
    "    print(type(kwargs))\n",
    "    print('------------------')\n",
    "    for v in args:print('0ptional argument(args): ', v)\n",
    "    print('------------------')\n",
    "    for k,v in kwargs.items():\n",
    "        print('0ptional argument %s(kwargs):%s'%(k, v))\n",
    "                                                 \n",
    "test_kwargs(1,2,3,4,k1=5,k2=6)"
   ]
  },
  {
   "cell_type": "markdown",
   "metadata": {},
   "source": []
  }
 ],
 "metadata": {
  "language_info": {
   "name": "python"
  }
 },
 "nbformat": 4,
 "nbformat_minor": 2
}
