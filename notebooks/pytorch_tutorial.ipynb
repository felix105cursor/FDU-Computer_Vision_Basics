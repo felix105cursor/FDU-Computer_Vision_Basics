def test_kwargs(first, *args, **kwargs):
    print('Required argument:', first)
    print(type(kwargs))
    for v in args:
        print('optional argument(args):' , v)
    for k,v in kwargs.items():
        print('0ptional argument %s(kwargs):%s'%(k, v))
                                                                       
test_kwargs(1,2,3,4,k1=5,k2=6)